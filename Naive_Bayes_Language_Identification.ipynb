{
 "cells": [
  {
   "cell_type": "code",
   "execution_count": 1,
   "id": "2a27577a",
   "metadata": {},
   "outputs": [],
   "source": [
    "import numpy as np\n",
    "import pandas as pd\n",
    "import seaborn as sns\n",
    "import time\n",
    "import matplotlib.pyplot as plt\n",
    "\n",
    "import re\n",
    "from sklearn.model_selection import train_test_split\n",
    "from sklearn.metrics import accuracy_score,confusion_matrix\n",
    "from sklearn.feature_extraction.text import CountVectorizer\n",
    "from sklearn.preprocessing import LabelEncoder\n",
    "from sklearn.naive_bayes import BernoulliNB\n",
    "from sklearn.metrics import classification_report\n",
    "\n",
    "import warnings as wrn\n",
    "wrn.filterwarnings(\"ignore\")\n"
   ]
  },
  {
   "cell_type": "code",
   "execution_count": 2,
   "id": "6391e943",
   "metadata": {},
   "outputs": [],
   "source": [
    "dataset = pd.read_csv(r'C:\\Users\\Gundeep Gulati\\Desktop\\Language_Identification_dataset\\dataset.csv')"
   ]
  },
  {
   "cell_type": "code",
   "execution_count": 3,
   "id": "76c3d3e5",
   "metadata": {},
   "outputs": [
    {
     "data": {
      "text/html": [
       "<div>\n",
       "<style scoped>\n",
       "    .dataframe tbody tr th:only-of-type {\n",
       "        vertical-align: middle;\n",
       "    }\n",
       "\n",
       "    .dataframe tbody tr th {\n",
       "        vertical-align: top;\n",
       "    }\n",
       "\n",
       "    .dataframe thead th {\n",
       "        text-align: right;\n",
       "    }\n",
       "</style>\n",
       "<table border=\"1\" class=\"dataframe\">\n",
       "  <thead>\n",
       "    <tr style=\"text-align: right;\">\n",
       "      <th></th>\n",
       "      <th>Text</th>\n",
       "      <th>language</th>\n",
       "    </tr>\n",
       "  </thead>\n",
       "  <tbody>\n",
       "    <tr>\n",
       "      <th>0</th>\n",
       "      <td>klement gottwaldi surnukeha palsameeriti ning ...</td>\n",
       "      <td>Estonian</td>\n",
       "    </tr>\n",
       "    <tr>\n",
       "      <th>1</th>\n",
       "      <td>sebes joseph pereira thomas  på eng the jesuit...</td>\n",
       "      <td>Swedish</td>\n",
       "    </tr>\n",
       "    <tr>\n",
       "      <th>2</th>\n",
       "      <td>ถนนเจริญกรุง อักษรโรมัน thanon charoen krung เ...</td>\n",
       "      <td>Thai</td>\n",
       "    </tr>\n",
       "    <tr>\n",
       "      <th>3</th>\n",
       "      <td>விசாகப்பட்டினம் தமிழ்ச்சங்கத்தை இந்துப் பத்திர...</td>\n",
       "      <td>Tamil</td>\n",
       "    </tr>\n",
       "    <tr>\n",
       "      <th>4</th>\n",
       "      <td>de spons behoort tot het geslacht haliclona en...</td>\n",
       "      <td>Dutch</td>\n",
       "    </tr>\n",
       "  </tbody>\n",
       "</table>\n",
       "</div>"
      ],
      "text/plain": [
       "                                                Text  language\n",
       "0  klement gottwaldi surnukeha palsameeriti ning ...  Estonian\n",
       "1  sebes joseph pereira thomas  på eng the jesuit...   Swedish\n",
       "2  ถนนเจริญกรุง อักษรโรมัน thanon charoen krung เ...      Thai\n",
       "3  விசாகப்பட்டினம் தமிழ்ச்சங்கத்தை இந்துப் பத்திர...     Tamil\n",
       "4  de spons behoort tot het geslacht haliclona en...     Dutch"
      ]
     },
     "execution_count": 3,
     "metadata": {},
     "output_type": "execute_result"
    }
   ],
   "source": [
    "dataset.head()"
   ]
  },
  {
   "cell_type": "code",
   "execution_count": 4,
   "id": "eabc6c72",
   "metadata": {},
   "outputs": [
    {
     "name": "stdout",
     "output_type": "stream",
     "text": [
      "[ 4 17 19 18  2  8 20 10 21  8]\n"
     ]
    }
   ],
   "source": [
    "# Splitting X and Y\n",
    "x = dataset[\"Text\"]\n",
    "y = dataset[\"language\"]\n",
    "\n",
    "# Encoding Y \n",
    "encoder = LabelEncoder()\n",
    "y = encoder.fit_transform(y)\n",
    "\n",
    "print(y[:10])"
   ]
  },
  {
   "cell_type": "code",
   "execution_count": 5,
   "id": "1f3d185b",
   "metadata": {},
   "outputs": [
    {
     "name": "stdout",
     "output_type": "stream",
     "text": [
      "22\n"
     ]
    }
   ],
   "source": [
    "#print unique languages\n",
    "print(len(np.unique(y)))"
   ]
  },
  {
   "cell_type": "code",
   "execution_count": 6,
   "id": "730dd547",
   "metadata": {},
   "outputs": [
    {
     "data": {
      "text/plain": [
       "[' lement gottwaldi surnukeha palsameeriti ning paigutati mausoleumi surnukeha oli aga liiga hilja ja oskamatult palsameeritud ning hakkas ilmutama lagunemise tundemärke  aastal viidi ta surnukeha mausoleumist ära ja kremeeriti zlíni linn kandis aastatel – nime gottwaldov ukrainas harkivi oblastis kandis zmiivi linn aastatel – nime gotvald',\n",
       " ' ebes joseph pereira thomas  på eng the jesuits and the sino-russian treaty of nerchinsk  the diary of thomas pereira bibliotheca instituti historici s i --   rome libris ',\n",
       " 'ถนนเจริญกรุง อักษรโรมัน thanon charoen krung เริ่มตั้งแต่ถนนสนามไชยถึงแม่น้ำเจ้าพระยาที่ถนนตก กรุงเทพมหานคร เป็นถนนรุ่นแรกที่ใช้เทคนิคการสร้างแบบตะวันตก ปัจจุบันผ่านพื้นที่เขตพระนคร เขตป้อมปราบศัตรูพ่าย เขตสัมพันธวงศ์ เขตบางรัก เขตสาทร และเขตบางคอแหลม',\n",
       " 'விசாகப்பட்டினம் தமிழ்ச்சங்கத்தை இந்துப் பத்திரிகை-விசாகப்பட்டின ஆசிரியர் சம்பத்துடன் இணைந்து விரிவுபடுத்தினார்  ஆண்டுகள் தொடர்ந்து செயலராக இருந்து தமிழ்மன்றத்தை நடத்திச் சென்றார்  கோவை செம்மொழி மாநாட்டில் \"தமிழ்ச்சங்கங்களும் தமிழும்\" எனும் தலைப்பில் பிற மாநிலங்களில் தமிழ்வளர்ச்சி பற்றி கட்டுரை வாசித்தார்']"
      ]
     },
     "execution_count": 6,
     "metadata": {},
     "output_type": "execute_result"
    }
   ],
   "source": [
    "# Cleaning and lowering text\n",
    "def cleanLower(texts):\n",
    "    \n",
    "    # This regular expression pattern means everything except alphabetical characters\n",
    "    pattern = \"^[a-zA-Z]\"\n",
    "    cleanText = []\n",
    "    for text in texts:\n",
    "        # re.sub(pattern) means replace everything with a space except alphabetical characters\n",
    "        cleanText.append(re.sub(pattern,\" \",text).lower())\n",
    "        \n",
    "    return cleanText\n",
    "\n",
    "x = cleanLower(x)\n",
    "x[:4]"
   ]
  },
  {
   "cell_type": "code",
   "execution_count": 7,
   "id": "10a4f710",
   "metadata": {},
   "outputs": [
    {
     "data": {
      "image/png": "[encoded data removed]",
      "text/plain": [
       "<Figure size 432x288 with 1 Axes>"
      ]
     },
     "metadata": {
      "needs_background": "light"
     },
     "output_type": "display_data"
    }
   ],
   "source": [
    "plt.subplots(figsize=(6,4))\n",
    "sns.countplot(y)\n",
    "plt.xlabel(\"Language (Encoded)\")\n",
    "plt.ylabel(\"Number of Samples\")\n",
    "plt.show()"
   ]
  },
  {
   "cell_type": "code",
   "execution_count": 8,
   "id": "ab7b3a68",
   "metadata": {},
   "outputs": [],
   "source": [
    "vectorizer = CountVectorizer(max_features=10000)\n",
    "x_end = vectorizer.fit_transform(x)"
   ]
  },
  {
   "cell_type": "code",
   "execution_count": 9,
   "id": "c1d1d4f2",
   "metadata": {},
   "outputs": [
    {
     "data": {
      "text/plain": [
       "(22000, 10000)"
      ]
     },
     "execution_count": 9,
     "metadata": {},
     "output_type": "execute_result"
    }
   ],
   "source": [
    "x_end.shape"
   ]
  },
  {
   "cell_type": "code",
   "execution_count": 10,
   "id": "de36e15c",
   "metadata": {},
   "outputs": [
    {
     "name": "stdout",
     "output_type": "stream",
     "text": [
      "(17600, 10000)\n",
      "(4400, 10000)\n",
      "(17600,)\n",
      "(4400,)\n"
     ]
    }
   ],
   "source": [
    "x_train,x_test,y_train,y_test = train_test_split(x_end.toarray(),y,test_size=0.2,random_state=42)\n",
    "print(x_train.shape)\n",
    "print(x_test.shape)\n",
    "print(y_train.shape)\n",
    "print(y_test.shape)"
   ]
  },
  {
   "cell_type": "code",
   "execution_count": 11,
   "id": "5cdd58e7",
   "metadata": {},
   "outputs": [
    {
     "name": "stdout",
     "output_type": "stream",
     "text": [
      "Fitting Naive Bayes model took 28.43 seconds\n"
     ]
    }
   ],
   "source": [
    "start_time = time.time()\n",
    "\n",
    "\n",
    "model = BernoulliNB()\n",
    "model.fit(x_train,y_train)\n",
    "\n",
    "end_time = time.time()\n",
    "process_time = round(end_time-start_time,2)\n",
    "\n",
    "print(\"Fitting Naive Bayes model took {} seconds\".format(process_time))"
   ]
  },
  {
   "cell_type": "code",
   "execution_count": 11,
   "id": "fa9f50c5",
   "metadata": {},
   "outputs": [
    {
     "name": "stdout",
     "output_type": "stream",
     "text": [
      "Fitting Naive Bayes model took 3381.65 seconds\n"
     ]
    }
   ],
   "source": [
    "start_time = time.time()\n",
    "\n",
    "\n",
    "model = LogisticRegression(solver='saga',multi_class=\"ovr\")\n",
    "model.fit(x_train,y_train)\n",
    "\n",
    "end_time = time.time()\n",
    "process_time = round(end_time-start_time,2)\n",
    "\n",
    "print(\"Fitting Naive Bayes model took {} seconds\".format(process_time))\n",
    "\n",
    "\n"
   ]
  },
  {
   "cell_type": "code",
   "execution_count": 12,
   "id": "15e5e951",
   "metadata": {},
   "outputs": [],
   "source": [
    "def evalModel(cls,test_set):\n",
    "    x,y = test_set\n",
    "    y_pred = cls.predict(x)\n",
    "    conf_matrix = confusion_matrix(y_pred=y_pred,y_true=y)\n",
    "    acc = round(accuracy_score(y_pred=y_pred,y_true=y),2) * 100\n",
    "    FP = conf_matrix.sum(axis=0) - np.diag(conf_matrix) \n",
    "    print(\"FP\",FP)\n",
    "    \n",
    "    FN = conf_matrix.sum(axis=1) - np.diag(conf_matrix)\n",
    "    print(\"FN\",FN)\n",
    "    TP = np.diag(conf_matrix)\n",
    "    print(\"TP\",TP)\n",
    "    TN = conf_matrix.sum() - (FP + FN + TP)\n",
    "    print(\"TN\",TN)\n",
    "    \n",
    "    TPR = TP/(TP+FN)\n",
    "    print(\"TPR\",TPR)\n",
    "    \n",
    "    TNR = TN/(TN+FP) \n",
    "    print(\"TNR\",TNR)\n",
    "    \n",
    "    print(f\"Accuracy is {acc}%\")\n",
    "    plt.subplots(figsize=(20,20))\n",
    "    sns.heatmap(conf_matrix,annot=True,fmt=\".1f\",linewidths=1.5)\n",
    "    plt.xlabel(\"Predicted Label\",fontsize=20)\n",
    "    plt.ylabel(\"True Label\",fontsize=20)\n",
    "    plt.show()"
   ]
  },
  {
   "cell_type": "code",
   "execution_count": 13,
   "id": "70b8806d",
   "metadata": {},
   "outputs": [
    {
     "name": "stdout",
     "output_type": "stream",
     "text": [
      "FP [  0  54   0  28   0   6   0   0 230   0   0   0   0   0   0   1   0   0\n",
      "   0   0   0   0]\n",
      "FN [  7 136   8   5  15   5   4   7  12  14  25   5  13   8   5  16   6   0\n",
      "   1   8   6  13]\n",
      "TP [195  65 222 189 185 183 204 206 182 176 185 191 181 188 192 197 193 179\n",
      " 197 188 193 190]\n",
      "TN [4198 4145 4170 4178 4200 4206 4192 4187 3976 4210 4190 4204 4206 4204\n",
      " 4203 4186 4201 4221 4202 4204 4201 4197]\n",
      "TPR [0.96534653 0.32338308 0.96521739 0.9742268  0.925      0.97340426\n",
      " 0.98076923 0.96713615 0.93814433 0.92631579 0.88095238 0.9744898\n",
      " 0.93298969 0.95918367 0.97461929 0.92488263 0.96984925 1.\n",
      " 0.99494949 0.95918367 0.96984925 0.93596059]\n",
      "TNR [1.         0.9871398  1.         0.99334284 1.         0.9985755\n",
      " 1.         1.         0.94531621 1.         1.         1.\n",
      " 1.         1.         1.         0.99976117 1.         1.\n",
      " 1.         1.         1.         1.        ]\n",
      "Accuracy is 93.0%\n"
     ]
    },
    {
     "data": {
      "image/png": "[encoded data removed]",
      "text/plain": [
       "<Figure size 1440x1440 with 2 Axes>"
      ]
     },
     "metadata": {
      "needs_background": "light"
     },
     "output_type": "display_data"
    }
   ],
   "source": [
    "evalModel(model,(x_test,y_test))"
   ]
  },
  {
   "cell_type": "code",
   "execution_count": 14,
   "id": "28048906",
   "metadata": {},
   "outputs": [
    {
     "data": {
      "text/plain": [
       "array(['Chinese', 'French'], dtype=object)"
      ]
     },
     "execution_count": 14,
     "metadata": {},
     "output_type": "execute_result"
    }
   ],
   "source": [
    "encoder.inverse_transform([1,5])"
   ]
  },
  {
   "cell_type": "code",
   "execution_count": 15,
   "id": "22cd51f8",
   "metadata": {},
   "outputs": [
    {
     "name": "stdout",
     "output_type": "stream",
     "text": [
      "F1 Score:  0.9311590132597051\n",
      "Precision Score:  0.946460784788611\n",
      "Recall Score:  0.9311590132597051\n",
      "MCC score:  0.9254704061209236\n"
     ]
    }
   ],
   "source": [
    "from sklearn.metrics import precision_score, recall_score, f1_score, matthews_corrcoef\n",
    "print('F1 Score: ',f1_score(y_test,model.predict(x_test), average='macro'))\n",
    "print('Precision Score: ',precision_score(y_test,model.predict(x_test), average='macro'))\n",
    "print('Recall Score: ',f1_score(y_test,model.predict(x_test), average='macro'))\n",
    "print('MCC score: ',matthews_corrcoef(y_test,model.predict(x_test), sample_weight=None))"
   ]
  },
  {
   "cell_type": "code",
   "execution_count": 16,
   "id": "eebea79b",
   "metadata": {},
   "outputs": [],
   "source": [
    "from sklearn.metrics import roc_curve, auc\n"
   ]
  },
  {
   "cell_type": "code",
   "execution_count": 18,
   "id": "6db032b7",
   "metadata": {},
   "outputs": [
    {
     "name": "stdout",
     "output_type": "stream",
     "text": [
      "              precision    recall  f1-score   support\n",
      "\n",
      "           0       0.97      1.00      0.98       195\n",
      "           1       0.32      0.55      0.41       119\n",
      "           2       0.97      1.00      0.98       222\n",
      "           3       0.97      0.87      0.92       217\n",
      "           4       0.93      1.00      0.96       185\n",
      "           5       0.97      0.97      0.97       189\n",
      "           6       0.98      1.00      0.99       204\n",
      "           7       0.97      1.00      0.98       206\n",
      "           8       0.94      0.44      0.60       412\n",
      "           9       0.93      1.00      0.96       176\n",
      "          10       0.88      1.00      0.94       185\n",
      "          11       0.97      1.00      0.99       191\n",
      "          12       0.93      1.00      0.97       181\n",
      "          13       0.96      1.00      0.98       188\n",
      "          14       0.97      1.00      0.99       192\n",
      "          15       0.92      0.99      0.96       198\n",
      "          16       0.97      1.00      0.98       193\n",
      "          17       1.00      1.00      1.00       179\n",
      "          18       0.99      1.00      1.00       197\n",
      "          19       0.96      1.00      0.98       188\n",
      "          20       0.97      1.00      0.98       193\n",
      "          21       0.94      1.00      0.97       190\n",
      "\n",
      "    accuracy                           0.93      4400\n",
      "   macro avg       0.93      0.95      0.93      4400\n",
      "weighted avg       0.94      0.93      0.92      4400\n",
      "\n"
     ]
    }
   ],
   "source": [
    "print(classification_report(model.predict(x_test),y_test))"
   ]
  },
  {
   "cell_type": "code",
   "execution_count": null,
   "id": "c3c45f1c",
   "metadata": {},
   "outputs": [],
   "source": []
  }
 ],
 "metadata": {
  "kernelspec": {
   "display_name": "Python 3",
   "language": "python",
   "name": "python3"
  },
  "language_info": {
   "codemirror_mode": {
    "name": "ipython",
    "version": 3
   },
   "file_extension": ".py",
   "mimetype": "text/x-python",
   "name": "python",
   "nbconvert_exporter": "python",
   "pygments_lexer": "ipython3",
   "version": "3.6.12"
  }
 },
 "nbformat": 4,
 "nbformat_minor": 5
}
